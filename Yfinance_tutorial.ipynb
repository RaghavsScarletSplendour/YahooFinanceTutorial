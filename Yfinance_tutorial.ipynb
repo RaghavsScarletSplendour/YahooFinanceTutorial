{
 "cells": [
  {
   "cell_type": "markdown",
   "id": "db548874",
   "metadata": {},
   "source": [
    "###Youtube Tutorial: https://youtu.be/x7FCTt-OTEA?si=v-cCm1OKYYOBKf6S",
    "\n",
    "# Installing Yahoo Finance (`yfinance`) for Python\n",
    "---\n",
    "\n",
    "The Yahoo Finance API can be utilized in Python and Jupyter Notebooks by installing the `yfinance` package. Below are several methods to achieve this, tailored to different setups and preferences.\n",
    "\n",
    "## Using pip\n",
    "\n",
    "`pip` is the Python package installer and can be used to install `yfinance` directly from your command line or terminal, as well as within a Jupyter Notebook:\n",
    "\n",
    "### In Command Line or Terminal\n",
    "```bash\n",
    "pip install yfinance\n",
    "```\n",
    "\n",
    "### In Jupyter Notebook\n",
    "```python\n",
    "!pip install yfinance\n",
    "```\n",
    "## Using Conda\n",
    "\n",
    "For those utilizing Anaconda or Miniconda, `yfinance` can be installed via `conda`, potentially using the conda-forge channel:\n",
    "\n",
    "```bash\n",
    "conda install -c conda-forge yfinance\n",
    "```\n",
    "\n",
    "## Installing from GitHub\n",
    "\n",
    "To access the latest features or fixes from the development branch, install `yfinance` directly from its GitHub repository:\n",
    "\n",
    "### Command Line or Terminal\n",
    "```bash\n",
    "pip install git+https://github.com/ranaroussi/yfinance.git\n",
    "```\n",
    "\n",
    "### Jupyter Notebook\n",
    "```python\n",
    "!pip install git+https://github.com/ranaroussi/yfinance.git"
   ]
  },
  {
   "cell_type": "code",
   "execution_count": null,
   "id": "d55d1af9",
   "metadata": {},
   "outputs": [],
   "source": [
    "# I will be using  pip\n",
    "!pip install yfinance"
   ]
  },
  {
   "cell_type": "markdown",
   "id": "83a6dc21",
   "metadata": {},
   "source": [
    "# Basics\n",
    "---\n",
    "## Importing Yfinance"
   ]
  },
  {
   "cell_type": "code",
   "execution_count": null,
   "id": "0515a5ff",
   "metadata": {},
   "outputs": [],
   "source": [
    "# Import the yfinance library to access Yahoo Finance data.\n",
    "import yfinance as yf"
   ]
  },
  {
   "cell_type": "markdown",
   "id": "0b67aec6",
   "metadata": {},
   "source": [
    "## Fetching Stock Data\n",
    "\n",
    "First we get the Ticker for the stock"
   ]
  },
  {
   "cell_type": "code",
   "execution_count": null,
   "id": "d55d4531",
   "metadata": {},
   "outputs": [],
   "source": [
    "apple = yf.Ticker(\"AAPL\")"
   ]
  },
  {
   "cell_type": "markdown",
   "id": "d7eea9d3",
   "metadata": {},
   "source": [
    "Now, we can get the historical market data by defining a start date and end date"
   ]
  },
  {
   "cell_type": "code",
   "execution_count": null,
   "id": "9b7012aa",
   "metadata": {},
   "outputs": [],
   "source": [
    "startDate = '2020-01-01'\n",
    "endDate = '2020-12-31'\n",
    "\n",
    "hist = apple.history(start = startDate , end = endDate)\n",
    "\n",
    "# If we don't specify an end date we get the data from the start to today/yesterday\n",
    "hist2 = apple.history(start = startDate)\n",
    "\n",
    "hist2"
   ]
  },
  {
   "cell_type": "code",
   "execution_count": null,
   "id": "cc71de87",
   "metadata": {},
   "outputs": [],
   "source": [
    "import matplotlib.pyplot as plt\n",
    "\n",
    "hist2['Close'].plot(figsize=(10, 6), title=\"Apple's Stock Price\")\n",
    "plt.xlabel('Date')\n",
    "plt.ylabel('Closing Price (USD)')\n",
    "plt.show()"
   ]
  },
  {
   "cell_type": "markdown",
   "id": "f0329428",
   "metadata": {},
   "source": [
    "There are multiple ways you can define the start and end date, I have listed only a few of the most common ones\n",
    "\n",
    "## Using Periods"
   ]
  },
  {
   "cell_type": "code",
   "execution_count": null,
   "id": "13a3a651",
   "metadata": {},
   "outputs": [],
   "source": [
    "period = '1d'\n",
    "hist = apple.history(period)\n",
    "\n",
    "period2 ='1mo'  \n",
    "hist2 = apple.history(period2)\n",
    "\n",
    "period3 = '1y'\n",
    "hist3 = apple.history(period3)"
   ]
  },
  {
   "cell_type": "code",
   "execution_count": null,
   "id": "3e12288f",
   "metadata": {},
   "outputs": [],
   "source": [
    "hist3"
   ]
  },
  {
   "cell_type": "markdown",
   "id": "1cff3f23",
   "metadata": {},
   "source": [
    "## Using Datetime"
   ]
  },
  {
   "cell_type": "code",
   "execution_count": null,
   "id": "9795ef02",
   "metadata": {},
   "outputs": [],
   "source": [
    "from datetime import datetime, timedelta\n",
    "\n",
    "# Get today's date\n",
    "today = datetime.now()\n",
    "\n",
    "# Calculate the start date as one year before today\n",
    "start_date = today - timedelta(days=365)\n",
    "\n",
    "# Fetch stock data from the start date to today\n",
    "tickerDf = apple.history(start=start_date, end=today)\n",
    "\n",
    "tickerDf"
   ]
  },
  {
   "cell_type": "markdown",
   "id": "02226ce4",
   "metadata": {},
   "source": [
    "## Fetching Multiple Stocks "
   ]
  },
  {
   "cell_type": "code",
   "execution_count": null,
   "id": "835ca241",
   "metadata": {},
   "outputs": [],
   "source": [
    "multi_data = yf.download([\"AAPL\", \"MSFT\"], start=\"2020-01-01\", end=\"2021-01-01\")\n",
    "print(multi_data)"
   ]
  },
  {
   "cell_type": "markdown",
   "id": "50689e57",
   "metadata": {},
   "source": [
    "## Getting Adjusted Prices"
   ]
  },
  {
   "cell_type": "code",
   "execution_count": null,
   "id": "6f36de52",
   "metadata": {},
   "outputs": [],
   "source": [
    "data = yf.download(\"AAPL\", start=\"2020-01-01\", end=\"2021-01-01\", auto_adjust=True)\n",
    "print(data['Close'])"
   ]
  },
  {
   "cell_type": "markdown",
   "id": "93fb1318",
   "metadata": {},
   "source": [
    "## Interval-based Data Retrieval"
   ]
  },
  {
   "cell_type": "code",
   "execution_count": null,
   "id": "e9dc6ca1",
   "metadata": {},
   "outputs": [],
   "source": [
    "# Valid intervals: [1m, 2m, 5m, 15m, 30m, 60m, 90m, 1h, 1d, 5d, 1wk, 1mo, 3mo]')\n",
    "\n",
    "weekly_data = yf.download(\"AAPL\", start=\"2020-01-01\", end=\"2021-01-01\", interval=\"1wk\")\n",
    "print(weekly_data)"
   ]
  },
  {
   "cell_type": "markdown",
   "id": "e4c5e452",
   "metadata": {},
   "source": [
    "# Advanced Features for Traders and Investors\n",
    "---"
   ]
  },
  {
   "cell_type": "markdown",
   "id": "7021d0f7",
   "metadata": {},
   "source": [
    "## Getting Stocks Metadata"
   ]
  },
  {
   "cell_type": "code",
   "execution_count": null,
   "id": "95ebd488",
   "metadata": {},
   "outputs": [],
   "source": [
    "msft = yf.Ticker(\"AAPL\")"
   ]
  },
  {
   "cell_type": "code",
   "execution_count": null,
   "id": "ee076a71",
   "metadata": {},
   "outputs": [],
   "source": [
    "hist = msft.history(period=\"1mo\")\n",
    "\n",
    "msft.history_metadata"
   ]
  },
  {
   "cell_type": "markdown",
   "id": "4be9743b",
   "metadata": {},
   "source": [
    "## Getting Financial Statement\n",
    "Accessing Stock's financial statements: Income Statement, Balance Sheet, and Cash Flow Statement."
   ]
  },
  {
   "cell_type": "code",
   "execution_count": null,
   "id": "25bd6600",
   "metadata": {},
   "outputs": [],
   "source": [
    "income_statement = apple.financials\n",
    "balance_sheet = apple.balance_sheet\n",
    "cash_flow = apple.cashflow\n",
    "\n",
    "# Displaying the income statement.\n",
    "print(\"Income Statement:\")\n",
    "print(income_statement.head())\n",
    "\n",
    "# Displaying the balance sheet.\n",
    "print(\"\\nBalance Sheet:\")\n",
    "print(balance_sheet.head())\n",
    "\n",
    "# Displaying the cash flow statement.\n",
    "print(\"\\nCash Flow Statement:\")\n",
    "print(cash_flow.head())\n",
    "\n",
    "# Displaying the Dividends of that stock (if given)\n",
    "dividends = apple.dividends\n",
    "splits = apple.splits\n",
    "print(\"\\nDividends:\")\n",
    "print(dividends, splits)\n"
   ]
  },
  {
   "cell_type": "markdown",
   "id": "7dcf1484",
   "metadata": {},
   "source": [
    "## Getting Share Holder Data"
   ]
  },
  {
   "cell_type": "code",
   "execution_count": null,
   "id": "2cfcd627",
   "metadata": {},
   "outputs": [],
   "source": [
    "msft = yf.Ticker(\"MSFT\")"
   ]
  },
  {
   "cell_type": "code",
   "execution_count": null,
   "id": "21451943",
   "metadata": {},
   "outputs": [],
   "source": [
    "msft.major_holders"
   ]
  },
  {
   "cell_type": "code",
   "execution_count": null,
   "id": "08d5fddf",
   "metadata": {},
   "outputs": [],
   "source": [
    "msft.institutional_holders"
   ]
  },
  {
   "cell_type": "code",
   "execution_count": null,
   "id": "b03477b2",
   "metadata": {},
   "outputs": [],
   "source": [
    "msft.mutualfund_holders"
   ]
  },
  {
   "cell_type": "markdown",
   "id": "d649a185",
   "metadata": {},
   "source": [
    "### Resources"
   ]
  },
  {
   "cell_type": "markdown",
   "id": "7d7067d6",
   "metadata": {},
   "source": [
    "https://pypi.org/project/yfinance/"
   ]
  },
  {
   "cell_type": "code",
   "execution_count": null,
   "id": "9c1b33c0",
   "metadata": {},
   "outputs": [],
   "source": []
  }
 ],
 "metadata": {
  "kernelspec": {
   "display_name": "Python 3 (ipykernel)",
   "language": "python",
   "name": "python3"
  },
  "language_info": {
   "codemirror_mode": {
    "name": "ipython",
    "version": 3
   },
   "file_extension": ".py",
   "mimetype": "text/x-python",
   "name": "python",
   "nbconvert_exporter": "python",
   "pygments_lexer": "ipython3",
   "version": "3.10.5"
  }
 },
 "nbformat": 4,
 "nbformat_minor": 5
}
